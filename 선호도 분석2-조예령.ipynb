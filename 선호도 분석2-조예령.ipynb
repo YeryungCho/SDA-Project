{
 "cells": [
  {
   "cell_type": "code",
   "execution_count": 2,
   "metadata": {},
   "outputs": [],
   "source": [
    "import pandas as pd\n",
    "import seaborn as sns\n",
    "import matplotlib.pyplot as plt\n",
    "from scipy import stats\n",
    "\n",
    "data = pd.read_csv(\"한국문화컨텐츠 선호도 조사.csv\", encoding='cp949')\n",
    "data=data[(data[\"POPULAR_DGREE_CN\"]==\"대중적 인기\")|(data[\"POPULAR_DGREE_CN\"]==\"일반인에게 널리 인기 있고 관련 상품의 판매가 원활\")]"
   ]
  },
  {
   "cell_type": "code",
   "execution_count": 77,
   "metadata": {
    "scrolled": false
   },
   "outputs": [
    {
     "data": {
      "text/plain": [
       "<AxesSubplot: xlabel='콘텐츠'>"
      ]
     },
     "execution_count": 77,
     "metadata": {},
     "output_type": "execute_result"
    },
    {
     "data": {
      "image/png": "[encoded data removed]",
      "text/plain": [
       "<Figure size 640x480 with 1 Axes>"
      ]
     },
     "metadata": {},
     "output_type": "display_data"
    }
   ],
   "source": [
    "#1. 컨텐츠 선호도(대중적 인기) 순위\n",
    "\n",
    "plt.rcParams[\"font.family\"]=\"NanumGothic\"\n",
    "\n",
    "drama = data[data[\"CNTNTS_URL\"]==\"드라마\"]\n",
    "entertain = data[data[\"CNTNTS_URL\"]==\"예능\"]\n",
    "movie = data[data[\"CNTNTS_URL\"]==\"영화\"]\n",
    "music = data[data[\"CNTNTS_URL\"]==\"음악\"]\n",
    "anima = data[data[\"CNTNTS_URL\"]==\"애니메이션\"]\n",
    "book = data[data[\"CNTNTS_URL\"]==\"도서/만화\"]\n",
    "webtoon = data[data[\"CNTNTS_URL\"]==\"웹툰\"]\n",
    "game = data[data[\"CNTNTS_URL\"]==\"게임\"]\n",
    "fashion = data[data[\"CNTNTS_URL\"]==\"패션\"]\n",
    "beauty = data[data[\"CNTNTS_URL\"]==\"뷰티\"]\n",
    "food = data[data[\"CNTNTS_URL\"]==\"한식\"]\n",
    "\n",
    "content = [\"드라마\", \"예능\", \"영화\", \"음악\", \"애니메이션\", \"도서/만화\", \"웹툰\", \"게임\", \"패션\", \"뷰티\", \"한식\"]\n",
    "mean = [drama[\"ALL_TOTAL_CO\"].mean(), entertain[\"ALL_TOTAL_CO\"].mean(), movie[\"ALL_TOTAL_CO\"].mean(), music[\"ALL_TOTAL_CO\"].mean(), \n",
    "        anima[\"ALL_TOTAL_CO\"].mean(), book[\"ALL_TOTAL_CO\"].mean(), webtoon[\"ALL_TOTAL_CO\"].mean(), game[\"ALL_TOTAL_CO\"].mean(), \n",
    "        fashion[\"ALL_TOTAL_CO\"].mean(), beauty[\"ALL_TOTAL_CO\"].mean(), food[\"ALL_TOTAL_CO\"].mean()]\n",
    "\n",
    "df = pd.DataFrame({'콘텐츠':content, '대중적 인기 비율 (%)':mean})\n",
    "df = df.sort_values(by=['대중적 인기 비율 (%)'], ascending=False)\n",
    "df.plot.bar(x='콘텐츠', y='대중적 인기 비율 (%)')"
   ]
  },
  {
   "cell_type": "code",
   "execution_count": 78,
   "metadata": {},
   "outputs": [],
   "source": [
    "#2. 아시아, 비아시아 국가 집단 간의 차이 분석\n",
    "#년도별로 컨텐츠 분류가 상이하여서 공통된 부분 추출\n",
    "data=data[(data[\"CNTNTS_URL\"]==\"드라마\")|(data[\"CNTNTS_URL\"]==\"예능\")|(data[\"CNTNTS_URL\"]==\"영화\")|(data[\"CNTNTS_URL\"]==\"음악\")|(data[\"CNTNTS_URL\"]==\"애니메이션\")|\n",
    "          (data[\"CNTNTS_URL\"]==\"도서/만화\")|(data[\"CNTNTS_URL\"]==\"웹툰\")|(data[\"CNTNTS_URL\"]==\"게임\")|(data[\"CNTNTS_URL\"]==\"패션\")|(data[\"CNTNTS_URL\"]==\"뷰티\")]"
   ]
  },
  {
   "cell_type": "code",
   "execution_count": 79,
   "metadata": {},
   "outputs": [
    {
     "name": "stdout",
     "output_type": "stream",
     "text": [
      "ShapiroResult(statistic=0.9769067168235779, pvalue=0.0005383052048273385)\n",
      "ShapiroResult(statistic=0.9822916984558105, pvalue=0.006626414135098457)\n"
     ]
    }
   ],
   "source": [
    "#정규성 검정\n",
    "\n",
    "data_asia=data[(data[\"EXAMIN_COUNTRY_NM\"]==\"중국\")|(data[\"EXAMIN_COUNTRY_NM\"]==\"일본\")|(data[\"EXAMIN_COUNTRY_NM\"]==\"대만\")|(data[\"EXAMIN_COUNTRY_NM\"]==\"태국\")|\n",
    "               (data[\"EXAMIN_COUNTRY_NM\"]==\"인도네시아\")|(data[\"EXAMIN_COUNTRY_NM\"]==\"말레이시아\")|(data[\"EXAMIN_COUNTRY_NM\"]==\"인도\")|(data[\"EXAMIN_COUNTRY_NM\"]==\"베트남\")|\n",
    "               (data[\"EXAMIN_COUNTRY_NM\"]==\"러시아\")]\n",
    "data_nonasia=data[(data[\"EXAMIN_COUNTRY_NM\"]==\"호주\")|(data[\"EXAMIN_COUNTRY_NM\"]==\"미국\")|(data[\"EXAMIN_COUNTRY_NM\"]==\"브라질\")|(data[\"EXAMIN_COUNTRY_NM\"]==\"프랑스\")|\n",
    "                  (data[\"EXAMIN_COUNTRY_NM\"]==\"영국\")|(data[\"EXAMIN_COUNTRY_NM\"]==\"터키\")|(data[\"EXAMIN_COUNTRY_NM\"]==\"UAE\")|(data[\"EXAMIN_COUNTRY_NM\"]==\"남아공\")|(data[\"EXAMIN_COUNTRY_NM\"]==\"\")]\n",
    "\n",
    "print(stats.shapiro(data_asia[\"ALL_TOTAL_CO\"]))\n",
    "print(stats.shapiro(data_nonasia[\"ALL_TOTAL_CO\"]))\n",
    "#아시아, 비아시아 집단 모두 p-value 값이 0.05 미만으로 정규성을 만족하지 않음\n",
    "#그러나 충분한 표본수가 확보되었기 때문에 중심극한정리에 의해 정규분포를 띈다고 가정하여 모수적인 방법을 수행해본다."
   ]
  },
  {
   "cell_type": "code",
   "execution_count": 80,
   "metadata": {},
   "outputs": [
    {
     "name": "stdout",
     "output_type": "stream",
     "text": [
      "BartlettResult(statistic=29.51259029816821, pvalue=5.555464389279851e-08)\n"
     ]
    }
   ],
   "source": [
    "#등분산성 검정\n",
    "\n",
    "print(stats.bartlett(data_asia[\"ALL_TOTAL_CO\"], data_nonasia[\"ALL_TOTAL_CO\"]))\n",
    "#p-value 값이 0.05 미만으로 등분산성 성립하지 않음"
   ]
  },
  {
   "cell_type": "code",
   "execution_count": 81,
   "metadata": {},
   "outputs": [
    {
     "name": "stdout",
     "output_type": "stream",
     "text": [
      "Ttest_indResult(statistic=5.5569929266007785, pvalue=4.801768307802391e-08)\n"
     ]
    }
   ],
   "source": [
    "#정규분포를 따르지만 이분산성을 가지는 데이터 - Welch's t test 수행\n",
    "\n",
    "print(stats.ttest_ind(data_asia[\"ALL_TOTAL_CO\"], data_nonasia[\"ALL_TOTAL_CO\"], equal_var=False))\n",
    "#p-value 값이 0.05보다 크므로 모집단간 평균의 차이가 동일하다는 귀무가설을 유의하게 기각할 수 있음\n",
    "#결론: 아시아와 비아시아 국가 집단 간에는 유의미한 선호도 차이가 존재한다."
   ]
  },
  {
   "cell_type": "code",
   "execution_count": 82,
   "metadata": {},
   "outputs": [
    {
     "name": "stdout",
     "output_type": "stream",
     "text": [
      "ShapiroResult(statistic=0.980190634727478, pvalue=0.3149929642677307)\n",
      "ShapiroResult(statistic=0.972838282585144, pvalue=0.08614325523376465)\n",
      "ShapiroResult(statistic=0.9572196006774902, pvalue=0.015435725450515747)\n"
     ]
    }
   ],
   "source": [
    "#2-1 비아시아 국가 집단의 년도별 선호도 추이 분석\n",
    "\n",
    "data_nonasia_2021=data_nonasia[data_nonasia[\"REPRT_YEAR_CN\"]==\"2021\"]\n",
    "data_nonasia_2020=data_nonasia[data_nonasia[\"REPRT_YEAR_CN\"]==\"2020\"]\n",
    "data_nonasia_2019=data_nonasia[data_nonasia[\"REPRT_YEAR_CN\"]==\"2019\"]\n",
    "\n",
    "print(stats.shapiro(data_nonasia_2019[\"ALL_TOTAL_CO\"]))\n",
    "print(stats.shapiro(data_nonasia_2020[\"ALL_TOTAL_CO\"]))\n",
    "print(stats.shapiro(data_nonasia_2021[\"ALL_TOTAL_CO\"]))\n",
    "#2021년 데이터의 p-value 값이 0.05보다 작으므로 정규성을 만족하지 않음 \n",
    "#그러나 충분한 표본수가 확보되었기 때문에 중심극한정리에 의해 정규분포를 띈다고 가정하여 모수적인 방법을 수행해본다."
   ]
  },
  {
   "cell_type": "code",
   "execution_count": 83,
   "metadata": {},
   "outputs": [
    {
     "name": "stdout",
     "output_type": "stream",
     "text": [
      "BartlettResult(statistic=13.071192250100957, pvalue=0.0014508638736087478)\n"
     ]
    }
   ],
   "source": [
    "#등분산성 검정\n",
    "print(stats.bartlett(data_nonasia_2021[\"ALL_TOTAL_CO\"], data_nonasia_2020[\"ALL_TOTAL_CO\"], data_nonasia_2019[\"ALL_TOTAL_CO\"]))\n",
    "#p-value 값이 0.05보다 작으므로 등분산성을 만족하지 않는다는 것을 알 수 있다"
   ]
  },
  {
   "cell_type": "code",
   "execution_count": 84,
   "metadata": {},
   "outputs": [
    {
     "data": {
      "text/html": [
       "<div>\n",
       "<style scoped>\n",
       "    .dataframe tbody tr th:only-of-type {\n",
       "        vertical-align: middle;\n",
       "    }\n",
       "\n",
       "    .dataframe tbody tr th {\n",
       "        vertical-align: top;\n",
       "    }\n",
       "\n",
       "    .dataframe thead th {\n",
       "        text-align: right;\n",
       "    }\n",
       "</style>\n",
       "<table border=\"1\" class=\"dataframe\">\n",
       "  <thead>\n",
       "    <tr style=\"text-align: right;\">\n",
       "      <th></th>\n",
       "      <th>Source</th>\n",
       "      <th>ddof1</th>\n",
       "      <th>ddof2</th>\n",
       "      <th>F</th>\n",
       "      <th>p-unc</th>\n",
       "      <th>np2</th>\n",
       "    </tr>\n",
       "  </thead>\n",
       "  <tbody>\n",
       "    <tr>\n",
       "      <th>0</th>\n",
       "      <td>REPRT_YEAR_CN</td>\n",
       "      <td>2</td>\n",
       "      <td>144.466234</td>\n",
       "      <td>106.666552</td>\n",
       "      <td>3.542521e-29</td>\n",
       "      <td>0.428959</td>\n",
       "    </tr>\n",
       "  </tbody>\n",
       "</table>\n",
       "</div>"
      ],
      "text/plain": [
       "          Source  ddof1       ddof2           F         p-unc       np2\n",
       "0  REPRT_YEAR_CN      2  144.466234  106.666552  3.542521e-29  0.428959"
      ]
     },
     "execution_count": 84,
     "metadata": {},
     "output_type": "execute_result"
    }
   ],
   "source": [
    "#Welch Anova 분석\n",
    "\n",
    "import pingouin as pg\n",
    "pg.welch_anova(dv=\"ALL_TOTAL_CO\", between=\"REPRT_YEAR_CN\", data=data_nonasia)\n",
    "#p-value값이 0.05보다 작으므로 귀무가설을 기각함 -> 년도별로 국가간의 선호도 차이가 존재한다.\n",
    "#국가 집단 간 선호도 평균 차이가 어디서 발생하는지 알아보기 위해 사후검정 실시"
   ]
  },
  {
   "cell_type": "code",
   "execution_count": 85,
   "metadata": {},
   "outputs": [
    {
     "data": {
      "text/html": [
       "<div>\n",
       "<style scoped>\n",
       "    .dataframe tbody tr th:only-of-type {\n",
       "        vertical-align: middle;\n",
       "    }\n",
       "\n",
       "    .dataframe tbody tr th {\n",
       "        vertical-align: top;\n",
       "    }\n",
       "\n",
       "    .dataframe thead th {\n",
       "        text-align: right;\n",
       "    }\n",
       "</style>\n",
       "<table border=\"1\" class=\"dataframe\">\n",
       "  <thead>\n",
       "    <tr style=\"text-align: right;\">\n",
       "      <th></th>\n",
       "      <th>A</th>\n",
       "      <th>B</th>\n",
       "      <th>mean(A)</th>\n",
       "      <th>mean(B)</th>\n",
       "      <th>diff</th>\n",
       "      <th>se</th>\n",
       "      <th>T</th>\n",
       "      <th>df</th>\n",
       "      <th>pval</th>\n",
       "      <th>hedges</th>\n",
       "    </tr>\n",
       "  </thead>\n",
       "  <tbody>\n",
       "    <tr>\n",
       "      <th>0</th>\n",
       "      <td>2019</td>\n",
       "      <td>2020</td>\n",
       "      <td>25.444444</td>\n",
       "      <td>25.887500</td>\n",
       "      <td>-0.443056</td>\n",
       "      <td>1.325233</td>\n",
       "      <td>-0.334323</td>\n",
       "      <td>149.659651</td>\n",
       "      <td>9.402750e-01</td>\n",
       "      <td>-0.054038</td>\n",
       "    </tr>\n",
       "    <tr>\n",
       "      <th>1</th>\n",
       "      <td>2019</td>\n",
       "      <td>2021</td>\n",
       "      <td>25.444444</td>\n",
       "      <td>11.833333</td>\n",
       "      <td>13.611111</td>\n",
       "      <td>1.115913</td>\n",
       "      <td>12.197288</td>\n",
       "      <td>132.487046</td>\n",
       "      <td>9.214851e-15</td>\n",
       "      <td>2.022125</td>\n",
       "    </tr>\n",
       "    <tr>\n",
       "      <th>2</th>\n",
       "      <td>2020</td>\n",
       "      <td>2021</td>\n",
       "      <td>25.887500</td>\n",
       "      <td>11.833333</td>\n",
       "      <td>14.054167</td>\n",
       "      <td>1.192711</td>\n",
       "      <td>11.783376</td>\n",
       "      <td>137.134127</td>\n",
       "      <td>1.265654e-14</td>\n",
       "      <td>1.904582</td>\n",
       "    </tr>\n",
       "  </tbody>\n",
       "</table>\n",
       "</div>"
      ],
      "text/plain": [
       "      A     B    mean(A)    mean(B)       diff        se          T  \\\n",
       "0  2019  2020  25.444444  25.887500  -0.443056  1.325233  -0.334323   \n",
       "1  2019  2021  25.444444  11.833333  13.611111  1.115913  12.197288   \n",
       "2  2020  2021  25.887500  11.833333  14.054167  1.192711  11.783376   \n",
       "\n",
       "           df          pval    hedges  \n",
       "0  149.659651  9.402750e-01 -0.054038  \n",
       "1  132.487046  9.214851e-15  2.022125  \n",
       "2  137.134127  1.265654e-14  1.904582  "
      ]
     },
     "execution_count": 85,
     "metadata": {},
     "output_type": "execute_result"
    }
   ],
   "source": [
    "#Games Howell 검정\n",
    "pg.pairwise_gameshowell(dv=\"ALL_TOTAL_CO\", between=\"REPRT_YEAR_CN\", data=data_nonasia)\n",
    "#p-value 값이 모두 0.05보다 작으므로 \n",
    "#2019, 2020, 2021년 모두 통계적으로 유의미한 선호도 차이가 존재한다."
   ]
  },
  {
   "cell_type": "code",
   "execution_count": 86,
   "metadata": {},
   "outputs": [
    {
     "data": {
      "text/plain": [
       "<AxesSubplot: xlabel='연령대'>"
      ]
     },
     "execution_count": 86,
     "metadata": {},
     "output_type": "execute_result"
    },
    {
     "data": {
      "image/png": "[encoded data removed]",
      "text/plain": [
       "<Figure size 640x480 with 1 Axes>"
      ]
     },
     "metadata": {},
     "output_type": "display_data"
    }
   ],
   "source": [
    "#3. 연령대별 선호도 차이\n",
    "age = [\"10대\", \"20대\", \"30대\", \"40대\", \"50대\"]\n",
    "mean = [data[\"ALL_N10S_RATE\"].mean(), data[\"ALL_N20S_RATE\"].mean(), data[\"ALL_N30S_RATE\"].mean(), data[\"ALL_N40S_RATE\"].mean(), data[\"ALL_N50S_RATE\"].mean()]\n",
    "df = pd.DataFrame({'연령대':age, '대중적 인기 비율 (%)':mean})\n",
    "df.plot.bar(x='연령대', y='대중적 인기 비율 (%)')\n",
    "#대략적인 선호도 차이 시각화를 위한 막대그래프"
   ]
  },
  {
   "cell_type": "code",
   "execution_count": 87,
   "metadata": {},
   "outputs": [
    {
     "name": "stdout",
     "output_type": "stream",
     "text": [
      "ShapiroResult(statistic=0.9703075885772705, pvalue=3.086159949816647e-08)\n",
      "ShapiroResult(statistic=0.9752442836761475, pvalue=3.2188111731557e-07)\n",
      "ShapiroResult(statistic=0.9723432064056396, pvalue=7.882636765543793e-08)\n",
      "ShapiroResult(statistic=0.9670550227165222, pvalue=7.43505523814747e-09)\n",
      "ShapiroResult(statistic=0.9138188362121582, pvalue=7.966553450789956e-16)\n"
     ]
    }
   ],
   "source": [
    "#이중 10~30대 간의 차이는 3% 미만으로 비슷해 보이는데, 과연 이것이 유의미한 차이일까?\n",
    "#anova 분석을 통해 연령별 선호도 간의 유의미한 차이가 존재하는지 확인해볼까?\n",
    "\n",
    "#정규성 검정\n",
    "print(stats.shapiro(data[\"ALL_N10S_RATE\"]))\n",
    "print(stats.shapiro(data[\"ALL_N20S_RATE\"]))\n",
    "print(stats.shapiro(data[\"ALL_N30S_RATE\"]))\n",
    "print(stats.shapiro(data[\"ALL_N40S_RATE\"]))\n",
    "print(stats.shapiro(data[\"ALL_N50S_RATE\"]))\n",
    "#5개 집단 모두 p-value 값이 0.05 미만으로 정규성을 만족하지 않음\n",
    "#그러나 충분한 표본수가 확보되었기 때문에 중심극한정리에 의해 정규분포를 띈다고 가정하여 모수적인 방법을 수행해본다."
   ]
  },
  {
   "cell_type": "code",
   "execution_count": 88,
   "metadata": {},
   "outputs": [
    {
     "name": "stdout",
     "output_type": "stream",
     "text": [
      "BartlettResult(statistic=3.320396236185835, pvalue=0.5057071573792216)\n"
     ]
    }
   ],
   "source": [
    "#등분산성 검정\n",
    "\n",
    "print(stats.bartlett(data[\"ALL_N10S_RATE\"], data[\"ALL_N20S_RATE\"], data[\"ALL_N30S_RATE\"], data[\"ALL_N40S_RATE\"], data[\"ALL_N50S_RATE\"]))\n",
    "#p-value 값이 0.05보다 크므로 등분산성 성립"
   ]
  },
  {
   "cell_type": "code",
   "execution_count": 89,
   "metadata": {},
   "outputs": [
    {
     "name": "stdout",
     "output_type": "stream",
     "text": [
      "F_onewayResult(statistic=45.79761039380172, pvalue=4.1203786395954744e-37)\n",
      "F_onewayResult(statistic=2.9293927016488954, pvalue=0.05375131415855613)\n",
      "F_onewayResult(statistic=69.56374521716948, pvalue=1.4934291904752267e-29)\n"
     ]
    }
   ],
   "source": [
    "#ANOVA 분석\n",
    "\n",
    "print(stats.f_oneway(data[\"ALL_N10S_RATE\"], data[\"ALL_N20S_RATE\"], data[\"ALL_N30S_RATE\"], data[\"ALL_N40S_RATE\"], data[\"ALL_N50S_RATE\"]))\n",
    "print(stats.f_oneway(data[\"ALL_N10S_RATE\"], data[\"ALL_N20S_RATE\"], data[\"ALL_N30S_RATE\"]))\n",
    "print(stats.f_oneway(data[\"ALL_N30S_RATE\"], data[\"ALL_N40S_RATE\"], data[\"ALL_N50S_RATE\"]))\n",
    "#10~50대 집단 모두 anova 분석을 실행한 결과 p-value 값이 0.05보다 매우 작으므로 유의미한 차이를 지닌 집단이 존재한다.\n",
    "#-> 사후분석을 통해 어느 집단이 유의미한 차이를 지니는지 확인해보기"
   ]
  },
  {
   "cell_type": "code",
   "execution_count": 90,
   "metadata": {},
   "outputs": [
    {
     "name": "stdout",
     "output_type": "stream",
     "text": [
      " Multiple Comparison of Means - Tukey HSD, FWER=0.05 \n",
      "=====================================================\n",
      "group1 group2 meandiff p-adj   lower    upper  reject\n",
      "-----------------------------------------------------\n",
      "   10대    20대    1.495 0.4352  -0.9081   3.898  False\n",
      "   10대    30대   2.1116 0.1159  -0.2915  4.5146  False\n",
      "   10대    40대   -2.887 0.0093  -5.2901 -0.4839   True\n",
      "   10대    50대  -8.1926    0.0 -10.5957 -5.7896   True\n",
      "   20대    30대   0.6166 0.9564  -1.7865  3.0197  False\n",
      "   20대    40대  -4.3819    0.0   -6.785 -1.9789   True\n",
      "   20대    50대  -9.6876    0.0 -12.0907 -7.2845   True\n",
      "   30대    40대  -4.9985    0.0  -7.4016 -2.5954   True\n",
      "   30대    50대 -10.3042    0.0 -12.7073 -7.9011   True\n",
      "   40대    50대  -5.3057    0.0  -7.7088 -2.9026   True\n",
      "-----------------------------------------------------\n"
     ]
    }
   ],
   "source": [
    "#Tukey's test\n",
    "from statsmodels.stats.multicomp import pairwise_tukeyhsd\n",
    "import numpy as np\n",
    "v = list(data.loc[:,\"ALL_N10S_RATE\"]) + list(data.loc[:,\"ALL_N20S_RATE\"]) + list(data.loc[:,\"ALL_N30S_RATE\"])+ list(data.loc[:,\"ALL_N40S_RATE\"])+ list(data.loc[:,\"ALL_N50S_RATE\"])\n",
    "labels = ['10대']*len(data[\"ALL_N10S_RATE\"]) + ['20대']*len(data[\"ALL_N20S_RATE\"]) + ['30대']*len(data[\"ALL_N30S_RATE\"]) + ['40대']*len(data[\"ALL_N40S_RATE\"]) + ['50대']*len(data[\"ALL_N50S_RATE\"])\n",
    "tukey = pairwise_tukeyhsd(v, labels, alpha=0.05)\n",
    "print(tukey)\n",
    "#10-40, 10-50, 20-40, 20-50, 30-40, 30-50, 40-50 연령대 간의 reject가 True로 귀무가설을 기각한다.\n",
    "#즉 10~30대, 40대, 50대 집단 간에 통계적으로 유의미한 평균 선호도 차이가 존재한다.\n",
    "#10, 20, 30대 간에 통계적으로 유의미한 차이는 존재하지 않는다."
   ]
  }
 ],
 "metadata": {
  "kernelspec": {
   "display_name": "stat",
   "language": "python",
   "name": "statenv"
  },
  "language_info": {
   "codemirror_mode": {
    "name": "ipython",
    "version": 3
   },
   "file_extension": ".py",
   "mimetype": "text/x-python",
   "name": "python",
   "nbconvert_exporter": "python",
   "pygments_lexer": "ipython3",
   "version": "3.9.0"
  }
 },
 "nbformat": 4,
 "nbformat_minor": 4
}
